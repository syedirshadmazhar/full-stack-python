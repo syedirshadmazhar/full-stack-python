{
 "cells": [
  {
   "cell_type": "code",
   "execution_count": 2,
   "id": "6d239b40-2587-4342-abc6-8b3fdc4819bf",
   "metadata": {},
   "outputs": [
    {
     "name": "stdout",
     "output_type": "stream",
     "text": [
      "hello , pythoon full stack students\n"
     ]
    }
   ],
   "source": [
    "print(\"hello , pythoon full stack students\")\n"
   ]
  },
  {
   "cell_type": "code",
   "execution_count": 3,
   "id": "dab8857e-c2d3-4ce9-bda0-a6e2ddf9018e",
   "metadata": {},
   "outputs": [
    {
     "name": "stdout",
     "output_type": "stream",
     "text": [
      "my name is syed irshad\n"
     ]
    }
   ],
   "source": [
    "print(\"my name is syed irshad\")"
   ]
  },
  {
   "cell_type": "code",
   "execution_count": 4,
   "id": "817a8893-2f4c-46f1-a438-2d2032a36f61",
   "metadata": {},
   "outputs": [
    {
     "name": "stdout",
     "output_type": "stream",
     "text": [
      " i am the cr of my class\n"
     ]
    }
   ],
   "source": [
    "print(\" i am the cr of my class\")"
   ]
  },
  {
   "cell_type": "code",
   "execution_count": 8,
   "id": "becb9a79-3d2f-42d3-b039-fa77a06a98da",
   "metadata": {},
   "outputs": [
    {
     "name": "stdout",
     "output_type": "stream",
     "text": [
      "syed irshad 19 9.5 True\n"
     ]
    }
   ],
   "source": [
    "name= \"syed irshad\"\n",
    "age=19\n",
    "gpa=9.5\n",
    "is_student=True\n",
    "print(name, age, gpa, is_student)"
   ]
  },
  {
   "cell_type": "code",
   "execution_count": null,
   "id": "a87ed46d-f267-4064-97cd-fd8c4b0beabf",
   "metadata": {},
   "outputs": [],
   "source": [
    "name=\"\""
   ]
  },
  {
   "cell_type": "code",
   "execution_count": 12,
   "id": "6178753c-fe6b-4bb2-95a7-7ff047d23255",
   "metadata": {},
   "outputs": [
    {
     "name": "stdout",
     "output_type": "stream",
     "text": [
      "<class 'int'> <class 'float'> <class 'str'> <class 'bool'>\n"
     ]
    }
   ],
   "source": [
    "x = 18\n",
    "y = 9.9\n",
    "z = \"syed irshad\"\n",
    "flag = False\n",
    "\n",
    "print(type(x), type(y), type(z), type(flag) )"
   ]
  },
  {
   "cell_type": "code",
   "execution_count": 14,
   "id": "44df3563-5bab-422e-97c1-8917af476921",
   "metadata": {},
   "outputs": [
    {
     "name": "stdout",
     "output_type": "stream",
     "text": [
      "syedirshad Avinash english\n"
     ]
    }
   ],
   "source": [
    "name =\"syedirshad\"\n",
    "college = \"Avinash\"\n",
    "language = \"english\"\n",
    "\n",
    "print (name , college , language)"
   ]
  },
  {
   "cell_type": "code",
   "execution_count": 16,
   "id": "e9fd60c2-3302-4141-a76a-118a5c6d8d97",
   "metadata": {},
   "outputs": [
    {
     "data": {
      "text/plain": [
       "-19"
      ]
     },
     "execution_count": 16,
     "metadata": {},
     "output_type": "execute_result"
    }
   ],
   "source": [
    "DOB = 2006\n",
    "year = 2025\n",
    "DOB-year"
   ]
  },
  {
   "cell_type": "code",
   "execution_count": 18,
   "id": "150143cc-3462-46c8-83e9-a00f819de523",
   "metadata": {},
   "outputs": [
    {
     "name": "stdout",
     "output_type": "stream",
     "text": [
      "pk 2007 9\n"
     ]
    }
   ],
   "source": [
    "movie=\"pk\"\n",
    "release_year=2007\n",
    "rating=9\n",
    "print(movie, release_year, rating)"
   ]
  },
  {
   "cell_type": "code",
   "execution_count": 21,
   "id": "cc9d0991-5ca3-4e30-87eb-b5a373f53534",
   "metadata": {},
   "outputs": [
    {
     "name": "stdout",
     "output_type": "stream",
     "text": [
      "addtion: 55\n",
      "division: 10.0\n",
      "Floor division: 10\n",
      "power: 312500000\n"
     ]
    }
   ],
   "source": [
    "a=50\n",
    "b=5\n",
    "print(\"addtion:\",a+b)\n",
    "print(\"division:\",a/b)\n",
    "print(\"Floor division:\",a//b)\n",
    "print(\"power:\",a ** b)"
   ]
  },
  {
   "cell_type": "code",
   "execution_count": 25,
   "id": "5cca9433-2fd5-4d2c-b63b-5ddfe6850b1c",
   "metadata": {},
   "outputs": [
    {
     "name": "stdout",
     "output_type": "stream",
     "text": [
      "False\n",
      "True\n",
      "True\n"
     ]
    }
   ],
   "source": [
    "a = 10\n",
    "b = 20\n",
    "\n",
    "print(a>b)\n",
    "print(a == 10)\n",
    "print(a<b)"
   ]
  },
  {
   "cell_type": "code",
   "execution_count": 10,
   "id": "de2a6b07-9ac2-4437-9907-55e9dd0a9968",
   "metadata": {},
   "outputs": [
    {
     "name": "stdout",
     "output_type": "stream",
     "text": [
      "['apple', 'banana', 'mango', 'orange']\n"
     ]
    }
   ],
   "source": [
    "fruits=[\"apple\", \"banana\", \"mango\"]\n",
    "fruits.append(\"orange\")\n",
    "print(fruits)"
   ]
  },
  {
   "cell_type": "code",
   "execution_count": 11,
   "id": "90b62e02-58e7-4eb9-a841-6d731b5123be",
   "metadata": {},
   "outputs": [
    {
     "name": "stdout",
     "output_type": "stream",
     "text": [
      "('red', 'green', 'blue')\n"
     ]
    }
   ],
   "source": [
    "colour=(\"red\", \"green\", \"blue\")\n",
    "print(colour)"
   ]
  },
  {
   "cell_type": "markdown",
   "id": "8e7b163c-a14f-4332-93fb-fa76feb16e10",
   "metadata": {},
   "source": [
    "colour=(\"red\", \"green\", \"blue\")\n",
    "print(colour[0])\n",
    "# colour[1] = \"yellow\"\n"
   ]
  },
  {
   "cell_type": "markdown",
   "id": "432688d8-29b9-4852-8f51-227102c75426",
   "metadata": {},
   "source": [
    "numbers = (1 , 2 , 3 , 4)\n",
    "numbers.add(5)\n",
    "print(number)"
   ]
  },
  {
   "cell_type": "raw",
   "id": "627abd40-cf81-4c05-9839-92f778557b49",
   "metadata": {},
   "source": [
    "student={\n",
    "\"name\" = \"syed\",\n",
    " \"age\":19,\n",
    "  \"course\":\"python full of stack\"}\n",
    "print(student[\"name\"]) #syed,\n",
    "student[\"age\"]=19 # update\n",
    "print(student)\n",
    "  "
   ]
  },
  {
   "cell_type": "code",
   "execution_count": 15,
   "id": "4a790950-2273-4dec-b1db-e1bca546a83f",
   "metadata": {},
   "outputs": [
    {
     "name": "stdout",
     "output_type": "stream",
     "text": [
      "syed\n"
     ]
    }
   ],
   "source": [
    "student={\n",
    "    \"name\":\"syed\",\n",
    "\"age\" : 19,\n",
    "\"course\" :\"python full of stack\"}\n",
    "print(student[\"name\"]) #syed"
   ]
  },
  {
   "cell_type": "code",
   "execution_count": 21,
   "id": "f296cb9f-4c97-4f28-9e38-e642d6f091b0",
   "metadata": {},
   "outputs": [
    {
     "name": "stdout",
     "output_type": "stream",
     "text": [
      "grade: a\n"
     ]
    }
   ],
   "source": [
    "marks=99\n",
    "if marks>=90:\n",
    "    print(\"grade: a\")\n",
    "elif marks >=99 :\n",
    "    print(\"grade: b\")\n",
    "elif marks >=50:\n",
    "    print(\"gRADE: C\")\n",
    "else:\n",
    "    print(\"grade : fail\")"
   ]
  },
  {
   "cell_type": "code",
   "execution_count": 26,
   "id": "2d7750ec-8742-4ecc-ab67-57f5f35cc306",
   "metadata": {},
   "outputs": [
    {
     "name": "stdout",
     "output_type": "stream",
     "text": [
      "number: 1\n",
      "number: 1\n",
      "number: 1\n",
      "number: 1\n",
      "number: 1\n"
     ]
    }
   ],
   "source": [
    "\n",
    "for I in range(1,6):\n",
    "    print(\"number:\",1)"
   ]
  },
  {
   "cell_type": "code",
   "execution_count": 27,
   "id": "9e67cf81-2201-44f6-be4e-2fb24bfb8157",
   "metadata": {},
   "outputs": [
    {
     "name": "stdout",
     "output_type": "stream",
     "text": [
      "1\n",
      "2\n",
      "3\n",
      "4\n"
     ]
    }
   ],
   "source": [
    "\n",
    "for i in range(1 , 10):\n",
    "    if i == 5:\n",
    "        break   #stop loop\n",
    "    print(i)"
   ]
  },
  {
   "cell_type": "code",
   "execution_count": null,
   "id": "01e4aee5-971f-412d-8d1a-5dc3fce9c7de",
   "metadata": {},
   "outputs": [],
   "source": []
  },
  {
   "cell_type": "code",
   "execution_count": null,
   "id": "c183afd6-5c7a-470b-8094-375598058d63",
   "metadata": {},
   "outputs": [],
   "source": []
  }
 ],
 "metadata": {
  "kernelspec": {
   "display_name": "Python [conda env:base] *",
   "language": "python",
   "name": "conda-base-py"
  },
  "language_info": {
   "codemirror_mode": {
    "name": "ipython",
    "version": 3
   },
   "file_extension": ".py",
   "mimetype": "text/x-python",
   "name": "python",
   "nbconvert_exporter": "python",
   "pygments_lexer": "ipython3",
   "version": "3.13.5"
  }
 },
 "nbformat": 4,
 "nbformat_minor": 5
}
